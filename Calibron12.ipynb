{
 "cells": [
  {
   "cell_type": "code",
   "execution_count": null,
   "id": "simple-montreal",
   "metadata": {},
   "outputs": [],
   "source": [
    "import numpy as np\n",
    "\n",
    "BOARD_SIZE = (56, 56)\n",
    "board = np.zeros(BOARD_SIZE, dtype=int)\n",
    "block_list = [(4,14),(6,28),(7,10),(7,28),(10,32),(11,32),(14,17),(14,21),(14,21),(14,28),(18,21),(18,21)]"
   ]
  },
  {
   "cell_type": "code",
   "execution_count": null,
   "id": "wound-detection",
   "metadata": {},
   "outputs": [],
   "source": [
    "blocks = [(i+1, b) for i, b in enumerate(block_list)] # Add unique indexing, Reserve 0 for not placed\n",
    "blocks"
   ]
  },
  {
   "cell_type": "code",
   "execution_count": null,
   "id": "electoral-antigua",
   "metadata": {},
   "outputs": [],
   "source": [
    "# Available space from place_coords for adding a new block\n",
    "def get_avail_space(board, place_coords):\n",
    "    r, c = place_coords\n",
    "    rcnt = 0\n",
    "    for v in board[r:,c]:\n",
    "        if v > 0:\n",
    "            break\n",
    "        rcnt += 1\n",
    "        \n",
    "    ccnt = 0\n",
    "    for v in board[r,c:]:\n",
    "        if v > 0:\n",
    "            break\n",
    "        ccnt += 1\n",
    "    return (rcnt, ccnt)\n",
    "\n",
    "# Placed block is not over the board edge\n",
    "def block_not_off_board(board, place_coords, block):\n",
    "    r, c = place_coords\n",
    "    block_r, block_c = block\n",
    "    \n",
    "    # Space Available\n",
    "    avail_r = board.shape[0] - r\n",
    "    avail_c = board.shape[1] - c    \n",
    "    \n",
    "    if block_r <= avail_r and block_c <= avail_c:\n",
    "        return True\n",
    "    else:\n",
    "        return False\n",
    "\n",
    "# Sliver is a gap small enough that no block fits in to it\n",
    "def no_sliver(board, place_coords, min_block_width):\n",
    "    r, c = place_coords\n",
    "    result = np.where(np.sum(board[r:, c:], axis=0) > 0)[0]\n",
    "    if result.size != 0:\n",
    "        size = result[0]\n",
    "    \n",
    "    gap_r = np.sum(np.where(np.sum(board, axis=1) == 0, 1, 0))\n",
    "    gap_c = np.sum(np.where(np.sum(board, axis=0) == 0, 1, 0))\n",
    "    \n",
    "    for gap in [gap_r, gap_c]:\n",
    "        if gap < min_block_width and gap > 0:\n",
    "            return False\n",
    "    return True    \n",
    "\n",
    "# Adds block index to board array if it doesn't go off the board edge and doesn't overlap another block\n",
    "def add_block_to_board(board, place_coords, block, val=1):\n",
    "    if block_not_off_board(board, place_coords, block):\n",
    "        r, c = place_coords\n",
    "        \n",
    "        block_temp = np.zeros(board.shape, dtype=int)\n",
    "        block_temp[r:r+block[0], c:c+block[1]] = val\n",
    "\n",
    "        # Make sure block doesn't overlap with already placed blocks\n",
    "        if np.max(np.where(board > 0, 1, 0) + np.where(block_temp > 0, 1, 0)) == 1:\n",
    "            return 'None', board + block_temp\n",
    "    return 'Error', board\n",
    "\n",
    "# Remove block index from board array\n",
    "def remove_block_from_board(board, val):\n",
    "    return np.where(board == val, 0, board)\n",
    "\n",
    "# All blocks placed\n",
    "def board_is_completed(board):\n",
    "    if np.min(board) == 0:\n",
    "        return False\n",
    "    else:\n",
    "        return True\n",
    "    \n",
    "# Of the blocks still available for placement, get the smallest possible width\n",
    "def get_min_block_width(blocks):\n",
    "    return min([min(b) for _, b in blocks])     "
   ]
  },
  {
   "cell_type": "code",
   "execution_count": null,
   "id": "invalid-recycling",
   "metadata": {},
   "outputs": [],
   "source": [
    "# Get the row and column coordinates of the first 0 value in the np array\n",
    "def get_next_place(board, block, min_block_width):\n",
    "    error = 'None'\n",
    "    \n",
    "    # Get the coordinates of first 0\n",
    "    r, c = np.unravel_index(np.argmin(board), board.shape)\n",
    "    \n",
    "    # Slivers are regions that are too small for any available block to fit\n",
    "    if not no_sliver(board, (r,c), min_block_width):\n",
    "        return 'Error', (r, c)\n",
    "\n",
    "    error, _ = add_block_to_board(board, (r, c), block)\n",
    "    if error == 'None':\n",
    "        return error, (r, c)\n",
    "    \n",
    "    return 'Error', (r, c)"
   ]
  },
  {
   "cell_type": "code",
   "execution_count": null,
   "id": "pediatric-kernel",
   "metadata": {},
   "outputs": [],
   "source": [
    "from IPython.display import clear_output\n",
    "from matplotlib import pyplot as plt\n",
    "%matplotlib inline\n",
    "\n",
    "# Arbitrary colors for display purposes\n",
    "color_dict = {0: (255, 255, 255),\n",
    "             1: (235, 64, 52),\n",
    "             2: (235, 217, 52),\n",
    "             3: (189, 235, 52),\n",
    "             4: (52, 177, 235),\n",
    "             5: (192, 52, 235),\n",
    "             6: (235, 52, 195),\n",
    "             7: (103, 80, 52),\n",
    "             8: (235, 162, 52),\n",
    "             9: (32, 171, 39),\n",
    "             10: (14, 54, 135),\n",
    "             11: (135, 14, 125),\n",
    "             12: (135, 14, 58)}\n",
    "\n",
    "# Display board as matplotlib image\n",
    "def pretty_print_board(board, init_clear=True):\n",
    "    if init_clear:\n",
    "        clear_output(wait=True)\n",
    "    \n",
    "    h, w = board.shape\n",
    "    board_rgb = np.zeros((*board.shape, 3), dtype=int)\n",
    "    for r in range(board.shape[0]):\n",
    "        for c in range(board.shape[1]):\n",
    "            board_rgb[r, c, :] = color_dict[board[r, c]]\n",
    "    \n",
    "    plt.imshow(board_rgb, interpolation='nearest')\n",
    "    plt.show()"
   ]
  },
  {
   "cell_type": "markdown",
   "id": "dated-smith",
   "metadata": {},
   "source": [
    "# Main Recursive Loop"
   ]
  },
  {
   "cell_type": "code",
   "execution_count": null,
   "id": "unlike-input",
   "metadata": {},
   "outputs": [],
   "source": [
    "def calibron(board, blocks, solutions):\n",
    "    rotations = [(idx, block[::-1]) for idx, block in blocks]\n",
    "    for i, (idx, block) in enumerate(blocks + rotations):\n",
    "        if board_is_completed(board):\n",
    "            solutions += [board]\n",
    "            pretty_print_board(board)\n",
    "            input('Hit Enter to continue.')\n",
    "            return\n",
    "            \n",
    "        if len([(ix, bl) for ix, bl in blocks if ix not in board]) == 0:\n",
    "            return\n",
    "\n",
    "        if idx in board:\n",
    "            continue\n",
    "        \n",
    "        min_block_width = get_min_block_width([(ix, bl) for ix, bl in blocks if ix not in board])\n",
    "        error, next_place = get_next_place(board, block, min_block_width)\n",
    "        if error != 'Error':\n",
    "            place_r, place_c = next_place\n",
    "            error, board = add_block_to_board(board, (place_r, place_c), block, val=idx)\n",
    "            if error != 'None':\n",
    "                print('Error adding block to board')\n",
    "                continue\n",
    "\n",
    "            calibron(board, [(ix, bl) for ix, bl in blocks if ix not in board and ix != idx], solutions)\n",
    "\n",
    "            if not(board_is_completed(board)):\n",
    "                board = remove_block_from_board(board, idx)\n",
    "    return"
   ]
  },
  {
   "cell_type": "markdown",
   "id": "encouraging-juvenile",
   "metadata": {},
   "source": [
    "# Run Solver"
   ]
  },
  {
   "cell_type": "code",
   "execution_count": null,
   "id": "pressed-davis",
   "metadata": {},
   "outputs": [],
   "source": [
    "solutions = []\n",
    "calibron(board, blocks, solutions)"
   ]
  },
  {
   "cell_type": "code",
   "execution_count": null,
   "id": "starting-honor",
   "metadata": {},
   "outputs": [],
   "source": [
    "len(solutions)"
   ]
  },
  {
   "cell_type": "markdown",
   "id": "revolutionary-promotion",
   "metadata": {},
   "source": [
    "# Unique Solutions"
   ]
  },
  {
   "cell_type": "code",
   "execution_count": null,
   "id": "average-sector",
   "metadata": {},
   "outputs": [],
   "source": [
    "def board_is_unique(new_board, board_list):\n",
    "    for k in range(4):\n",
    "        board_test = np.rot90(new_board, k=k)\n",
    "        if any([np.array_equal(board_test, b) for b in board_list]):\n",
    "            return False\n",
    "        elif any([np.array_equal(np.flip(board_test, axis=0), b) for b in board_list]):\n",
    "            return False\n",
    "        elif any([np.array_equal(np.flip(board_test, axis=1), b) for b in board_list]):\n",
    "            return False\n",
    "        elif any([np.array_equal(np.flip(board_test, axis=[0,1]), b) for b in board_list]):\n",
    "            return False\n",
    "    return True"
   ]
  },
  {
   "cell_type": "code",
   "execution_count": null,
   "id": "double-indiana",
   "metadata": {},
   "outputs": [],
   "source": [
    "unique = []\n",
    "for solution in solutions:\n",
    "    if board_is_unique(solution, unique):\n",
    "        unique += [solution]\n",
    "print(len(unique))"
   ]
  },
  {
   "cell_type": "code",
   "execution_count": null,
   "id": "wrapped-funeral",
   "metadata": {},
   "outputs": [],
   "source": [
    "for u in unique:\n",
    "    pretty_print_board(u, init_clear=False)"
   ]
  },
  {
   "cell_type": "code",
   "execution_count": null,
   "id": "living-asset",
   "metadata": {},
   "outputs": [],
   "source": []
  }
 ],
 "metadata": {
  "kernelspec": {
   "display_name": "Python 3",
   "language": "python",
   "name": "python3"
  },
  "language_info": {
   "codemirror_mode": {
    "name": "ipython",
    "version": 3
   },
   "file_extension": ".py",
   "mimetype": "text/x-python",
   "name": "python",
   "nbconvert_exporter": "python",
   "pygments_lexer": "ipython3",
   "version": "3.8.6"
  }
 },
 "nbformat": 4,
 "nbformat_minor": 5
}
